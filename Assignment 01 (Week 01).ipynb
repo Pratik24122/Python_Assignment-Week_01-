{
 "cells": [
  {
   "cell_type": "markdown",
   "id": "04a4e031",
   "metadata": {},
   "source": [
    "### Q1"
   ]
  },
  {
   "cell_type": "code",
   "execution_count": 1,
   "id": "02909891",
   "metadata": {},
   "outputs": [],
   "source": [
    "name=\"Pratik\"\n",
    "list=[1,2,3,4,5,\"Pratik\",22.23,2+4j]\n",
    "age=18.5\n",
    "fruits=(\"Mango\",\"Apple\",\"Kivi\",\"Pineapple\",\"Orange\")"
   ]
  },
  {
   "cell_type": "markdown",
   "id": "e5c6032c",
   "metadata": {},
   "source": [
    "### Q2"
   ]
  },
  {
   "cell_type": "code",
   "execution_count": 2,
   "id": "a1e5dfea",
   "metadata": {},
   "outputs": [
    {
     "data": {
      "text/plain": [
       "str"
      ]
     },
     "execution_count": 2,
     "metadata": {},
     "output_type": "execute_result"
    }
   ],
   "source": [
    "var1=''\n",
    "type(var1)"
   ]
  },
  {
   "cell_type": "code",
   "execution_count": 3,
   "id": "01a34ca4",
   "metadata": {},
   "outputs": [
    {
     "data": {
      "text/plain": [
       "str"
      ]
     },
     "execution_count": 3,
     "metadata": {},
     "output_type": "execute_result"
    }
   ],
   "source": [
    "var2='[ML,DS,PYTHON]'\n",
    "type(var2)"
   ]
  },
  {
   "cell_type": "code",
   "execution_count": 4,
   "id": "ab9b8126",
   "metadata": {},
   "outputs": [
    {
     "data": {
      "text/plain": [
       "list"
      ]
     },
     "execution_count": 4,
     "metadata": {},
     "output_type": "execute_result"
    }
   ],
   "source": [
    "var3=['DS','ML','PYTHON']\n",
    "type(var3)"
   ]
  },
  {
   "cell_type": "code",
   "execution_count": 5,
   "id": "2cdb05d3",
   "metadata": {},
   "outputs": [
    {
     "data": {
      "text/plain": [
       "int"
      ]
     },
     "execution_count": 5,
     "metadata": {},
     "output_type": "execute_result"
    }
   ],
   "source": [
    "var4=1\n",
    "type(var4)"
   ]
  },
  {
   "cell_type": "markdown",
   "id": "6158f25f",
   "metadata": {},
   "source": [
    "### Q3"
   ]
  },
  {
   "cell_type": "code",
   "execution_count": 6,
   "id": "54d5a4a5",
   "metadata": {},
   "outputs": [
    {
     "data": {
      "text/plain": [
       "5.0"
      ]
     },
     "execution_count": 6,
     "metadata": {},
     "output_type": "execute_result"
    }
   ],
   "source": [
    "# / - It is used divide two numbers.\n",
    "a=10\n",
    "b=50\n",
    "b/a"
   ]
  },
  {
   "cell_type": "code",
   "execution_count": 7,
   "id": "355bee8a",
   "metadata": {},
   "outputs": [
    {
     "data": {
      "text/plain": [
       "8"
      ]
     },
     "execution_count": 7,
     "metadata": {},
     "output_type": "execute_result"
    }
   ],
   "source": [
    "# % - It is used to get the remainder.\n",
    "a=10\n",
    "b=88\n",
    "b%a"
   ]
  },
  {
   "cell_type": "code",
   "execution_count": 8,
   "id": "867af3a0",
   "metadata": {},
   "outputs": [
    {
     "data": {
      "text/plain": [
       "7"
      ]
     },
     "execution_count": 8,
     "metadata": {},
     "output_type": "execute_result"
    }
   ],
   "source": [
    "# the floor division // rounds the result down to the nearest whole number.\n",
    "a=23\n",
    "b=3\n",
    "a//b"
   ]
  },
  {
   "cell_type": "code",
   "execution_count": 9,
   "id": "1b5e9510",
   "metadata": {},
   "outputs": [
    {
     "data": {
      "text/plain": [
       "9"
      ]
     },
     "execution_count": 9,
     "metadata": {},
     "output_type": "execute_result"
    }
   ],
   "source": [
    "# ** - It is a exponent.\n",
    "a=3\n",
    "a**2"
   ]
  },
  {
   "cell_type": "markdown",
   "id": "9eb9c12a",
   "metadata": {},
   "source": [
    "### Q4"
   ]
  },
  {
   "cell_type": "code",
   "execution_count": 10,
   "id": "30c00838",
   "metadata": {},
   "outputs": [
    {
     "name": "stdout",
     "output_type": "stream",
     "text": [
      "1\n",
      "<class 'int'>\n",
      "2\n",
      "<class 'int'>\n",
      "3\n",
      "<class 'int'>\n",
      "4\n",
      "<class 'int'>\n",
      "5\n",
      "<class 'int'>\n",
      "Pratik\n",
      "<class 'str'>\n",
      "22.23\n",
      "<class 'float'>\n",
      "(2+4j)\n",
      "<class 'complex'>\n",
      "8j\n",
      "<class 'complex'>\n"
     ]
    }
   ],
   "source": [
    "l=[1,2,3,4,5,\"Pratik\",22.23,2+4j,8j]\n",
    "for i in l :\n",
    "  print(i)\n",
    "  print(type(i))"
   ]
  },
  {
   "cell_type": "code",
   "execution_count": 11,
   "id": "037a9da1",
   "metadata": {},
   "outputs": [
    {
     "name": "stdout",
     "output_type": "stream",
     "text": [
      "A divides B times :  4\n"
     ]
    }
   ],
   "source": [
    "A=80\n",
    "B=2\n",
    "count=0\n",
    "while A%B==0:\n",
    "  A=A/B\n",
    "  count +=1\n",
    "print(\"A divides B times : \",count)"
   ]
  },
  {
   "cell_type": "code",
   "execution_count": 12,
   "id": "c5b0e1fc",
   "metadata": {},
   "outputs": [
    {
     "name": "stdout",
     "output_type": "stream",
     "text": [
      "0  is divisible by 3.\n",
      "3  is divisible by 3.\n",
      "6  is divisible by 3.\n",
      "9  is divisible by 3.\n",
      "12  is divisible by 3.\n",
      "15  is divisible by 3.\n",
      "18  is divisible by 3.\n",
      "21  is divisible by 3.\n",
      "24  is divisible by 3.\n"
     ]
    }
   ],
   "source": [
    "l=(range(25))\n",
    "\n",
    "for i in l:\n",
    "\n",
    "  if (i%3==0):\n",
    "    print(i,\" is divisible by 3.\")\n",
    "\n"
   ]
  },
  {
   "cell_type": "code",
   "execution_count": 13,
   "id": "aa214843",
   "metadata": {},
   "outputs": [
    {
     "data": {
      "text/plain": [
       "1"
      ]
     },
     "execution_count": 13,
     "metadata": {},
     "output_type": "execute_result"
    }
   ],
   "source": [
    "#In mutable datatypes we can change elements by using their index.\n",
    "#Example of mutable datatype is list.\n",
    "l=[1,2,3,12,10,15,19]\n",
    "l[0]"
   ]
  },
  {
   "cell_type": "code",
   "execution_count": 14,
   "id": "869d8878",
   "metadata": {},
   "outputs": [
    {
     "data": {
      "text/plain": [
       "[13, 2, 3, 12, 10, 15, 19]"
      ]
     },
     "execution_count": 14,
     "metadata": {},
     "output_type": "execute_result"
    }
   ],
   "source": [
    "l[0]=13\n",
    "l"
   ]
  },
  {
   "cell_type": "code",
   "execution_count": 15,
   "id": "be731e2d",
   "metadata": {},
   "outputs": [
    {
     "data": {
      "text/plain": [
       "'i'"
      ]
     },
     "execution_count": 15,
     "metadata": {},
     "output_type": "execute_result"
    }
   ],
   "source": [
    "#In immutable datatype we can't change the elements by using their index.\n",
    "#Example of immutable is string.\n",
    "name=\"Pratik\"\n",
    "name[-2]\n"
   ]
  },
  {
   "cell_type": "code",
   "execution_count": 16,
   "id": "1941a030",
   "metadata": {},
   "outputs": [
    {
     "ename": "TypeError",
     "evalue": "'str' object does not support item assignment",
     "output_type": "error",
     "traceback": [
      "\u001b[1;31m---------------------------------------------------------------------------\u001b[0m",
      "\u001b[1;31mTypeError\u001b[0m                                 Traceback (most recent call last)",
      "\u001b[1;32m~\\AppData\\Local\\Temp\\ipykernel_16660\\1497377458.py\u001b[0m in \u001b[0;36m<module>\u001b[1;34m\u001b[0m\n\u001b[1;32m----> 1\u001b[1;33m \u001b[0mname\u001b[0m\u001b[1;33m[\u001b[0m\u001b[1;33m-\u001b[0m\u001b[1;36m2\u001b[0m\u001b[1;33m]\u001b[0m\u001b[1;33m=\u001b[0m\u001b[1;34m'e'\u001b[0m\u001b[1;33m\u001b[0m\u001b[1;33m\u001b[0m\u001b[0m\n\u001b[0m",
      "\u001b[1;31mTypeError\u001b[0m: 'str' object does not support item assignment"
     ]
    }
   ],
   "source": [
    "name[-2]='e'"
   ]
  },
  {
   "cell_type": "code",
   "execution_count": null,
   "id": "01bf7c8e",
   "metadata": {},
   "outputs": [],
   "source": []
  }
 ],
 "metadata": {
  "kernelspec": {
   "display_name": "Python 3 (ipykernel)",
   "language": "python",
   "name": "python3"
  },
  "language_info": {
   "codemirror_mode": {
    "name": "ipython",
    "version": 3
   },
   "file_extension": ".py",
   "mimetype": "text/x-python",
   "name": "python",
   "nbconvert_exporter": "python",
   "pygments_lexer": "ipython3",
   "version": "3.9.13"
  }
 },
 "nbformat": 4,
 "nbformat_minor": 5
}
